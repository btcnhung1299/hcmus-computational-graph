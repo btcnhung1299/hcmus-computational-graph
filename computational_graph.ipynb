{
  "nbformat": 4,
  "nbformat_minor": 0,
  "metadata": {
    "colab": {
      "name": "Computational Graph.ipynb",
      "provenance": [],
      "collapsed_sections": [],
      "authorship_tag": "ABX9TyOF9O/wbvzjvyVsHZxdENPd",
      "include_colab_link": true
    },
    "kernelspec": {
      "name": "python3",
      "display_name": "Python 3"
    }
  },
  "cells": [
    {
      "cell_type": "markdown",
      "metadata": {
        "id": "view-in-github",
        "colab_type": "text"
      },
      "source": [
        "<a href=\"https://colab.research.google.com/github/btcnhung1299/hcmus-computational-graph/blob/master/computational_graph.ipynb\" target=\"_parent\"><img src=\"https://colab.research.google.com/assets/colab-badge.svg\" alt=\"Open In Colab\"/></a>"
      ]
    },
    {
      "cell_type": "code",
      "metadata": {
        "id": "USID8q8G-Knz",
        "colab_type": "code",
        "colab": {}
      },
      "source": [
        "import functools\n",
        "\n",
        "def add_method(cls):\n",
        "  def decorator(func):\n",
        "\n",
        "    @functools.wraps(func)\n",
        "    def wrapper(*args, **kwargs):\n",
        "      return func(*args, **kwargs)\n",
        "    \n",
        "    setattr(cls, func.__name__, wrapper)\n",
        "    return wrapper\n",
        "  \n",
        "  return decorator"
      ],
      "execution_count": 1,
      "outputs": []
    },
    {
      "cell_type": "markdown",
      "metadata": {
        "id": "3afsr3xKaGm7",
        "colab_type": "text"
      },
      "source": [
        "### Computational graph architecture"
      ]
    },
    {
      "cell_type": "markdown",
      "metadata": {
        "id": "g5lfdXHR-V6x",
        "colab_type": "text"
      },
      "source": [
        "Computational graph is a directed acyclic graph which contains of a set of nodes. Thus, for an edge from `u` to `v`, we define `u` as the parent of `v`."
      ]
    },
    {
      "cell_type": "code",
      "metadata": {
        "id": "2qPVsYJn_05F",
        "colab_type": "code",
        "colab": {}
      },
      "source": [
        "class Graph:\n",
        "  def __init__(self):\n",
        "    self.nodes = set()"
      ],
      "execution_count": 2,
      "outputs": []
    },
    {
      "cell_type": "code",
      "metadata": {
        "id": "_Rrn96KMozns",
        "colab_type": "code",
        "colab": {}
      },
      "source": [
        "class Node:\n",
        "  def __init__(self):\n",
        "    self.parent = None\n",
        "    self.value = None\n",
        "    self.grad_value = {}\n",
        "  \n",
        "  def set_parent(self, parent):\n",
        "    self.parent = parent"
      ],
      "execution_count": 3,
      "outputs": []
    },
    {
      "cell_type": "markdown",
      "metadata": {
        "id": "BDw51lQcfPUD",
        "colab_type": "text"
      },
      "source": [
        "Each node can be either operation or variable. In fact, a variable can be regarded as a special operation which acts as a placeholder."
      ]
    },
    {
      "cell_type": "code",
      "metadata": {
        "id": "Hfq2IoHxBRTI",
        "colab_type": "code",
        "colab": {}
      },
      "source": [
        "class Operation(Node):\n",
        "  def __init__(self, inputs=[]):\n",
        "    super().__init__()\n",
        "    self.inputs = inputs\n",
        "\n",
        "  def compute_grad_value(self, arg_node):\n",
        "    pass\n",
        "\n",
        "  def compute_grad_params(self, arg_node):\n",
        "    for node in self.inputs:\n",
        "      node.compute_grad_value(arg_node)"
      ],
      "execution_count": 4,
      "outputs": []
    },
    {
      "cell_type": "code",
      "metadata": {
        "id": "UfX0egrDAi5e",
        "colab_type": "code",
        "colab": {}
      },
      "source": [
        "class Variable(Operation):\n",
        "  def __init__(self, symbol):\n",
        "    super().__init__()\n",
        "    self.symbol = symbol\n",
        "\n",
        "  def set_value(self, value):\n",
        "    self.value = value\n",
        "\n",
        "  def __repr__(self):\n",
        "    return '{}'.format(self.symbol)\n",
        "\n",
        "  def compute_value(self):\n",
        "    if self.value is None:\n",
        "      raise ValueError('{} does not carry any value.'.format(self))\n",
        "\n",
        "  def compute_grad_value(self, arg_node):\n",
        "    self.grad_value[arg_node] = (1 if self == arg_node else 0) "
      ],
      "execution_count": 5,
      "outputs": []
    },
    {
      "cell_type": "markdown",
      "metadata": {
        "id": "7F4HVM2yBrI5",
        "colab_type": "text"
      },
      "source": [
        "`Operation` is an abstract class. To support primary operations such as `+, -, *, /` (ternary operations) or `x^n, e^x, sin(x), cos(x), tan(x)` (unary operations), we need to override them."
      ]
    },
    {
      "cell_type": "markdown",
      "metadata": {
        "id": "_tjvHsFvaTEG",
        "colab_type": "text"
      },
      "source": [
        "#### Ternary Operations"
      ]
    },
    {
      "cell_type": "markdown",
      "metadata": {
        "id": "Xiq-6Is5GYtz",
        "colab_type": "text"
      },
      "source": [
        "1. **Addition**: Adding any two variables/operations results in an `AddOperation`. Given input nodes whose values provided:\n",
        "*   `compute_value`: We compute value of the `AddOperation` by simply adding values of the nodes.\n",
        "*   `compute_grad_value`: We compute gradient value of the `AddOperation` with respect to each input nodes by taking derivation of each.\n",
        "Let $a = f(x, y)$ and $b = f(x, y)$. $c = f(a, b) = a + b$ for addition.\n",
        "Then, $\\frac{\\delta c}{\\delta x} = \\frac{\\delta a}{\\delta x} + \\frac{\\delta b}{\\delta x}$. The same holds for $\\frac{\\delta c}{\\delta y}$.\n",
        "\n",
        "2. We do the same thing to **substraction**, or `SubOperation`."
      ]
    },
    {
      "cell_type": "code",
      "metadata": {
        "id": "C267qMluqJRk",
        "colab_type": "code",
        "colab": {}
      },
      "source": [
        "class AddOperation(Operation):\n",
        "  def __repr__(self):\n",
        "    return '{} + {}'.format(self.inputs[0], self.inputs[1])\n",
        "\n",
        "  def compute_value(self):\n",
        "    assert len(self.inputs) == 2\n",
        "    self.value = self.inputs[0].value + self.inputs[1].value\n",
        "\n",
        "  def compute_grad_value(self, arg_node):\n",
        "    self.compute_grad_params(arg_node)\n",
        "    self.grad_value[arg_node] = self.inputs[0].grad_value[arg_node] + self.inputs[1].grad_value[arg_node]\n",
        "\n",
        "@add_method(Node)\n",
        "def __add__(self, other):\n",
        "  add_op = AddOperation(inputs=[self, other])\n",
        "  return add_op"
      ],
      "execution_count": 6,
      "outputs": []
    },
    {
      "cell_type": "code",
      "metadata": {
        "id": "hJbpnrrZX7D7",
        "colab_type": "code",
        "colab": {}
      },
      "source": [
        "class SubOperation(Operation):\n",
        "  def __repr__(self):\n",
        "    return '{} - {}'.format(self.inputs[0], self.inputs[1])\n",
        "\n",
        "  def compute_value(self):\n",
        "    assert len(self.inputs) == 2\n",
        "    self.value = self.inputs[0].value - self.inputs[1].value\n",
        "\n",
        "  def compute_grad_value(self, arg_node):\n",
        "    self.compute_grad_params(arg_node)\n",
        "    self.grad_value[arg_node] = self.inputs[0].grad_value[arg_node] - self.inputs[1].grad_value[arg_node]\n",
        "\n",
        "@add_method(Node)\n",
        "def __sub__(self, other):\n",
        "  sub_op = SubOperation(inputs=[self, other])\n",
        "  return sub_op"
      ],
      "execution_count": 7,
      "outputs": []
    },
    {
      "cell_type": "markdown",
      "metadata": {
        "id": "jO6kVXQZXZTv",
        "colab_type": "text"
      },
      "source": [
        "3. **Multiplication**:\n",
        "*   `compute_grad_value`: \n",
        "Let $a = f(x, y)$ and $b = f(x, y)$. $c = f(a, b) = a * b$.\n",
        "Then, $\\frac{\\delta c}{\\delta x} = b * \\frac{\\delta a}{\\delta x} + a * \\frac{\\delta b}{\\delta x}$. The same holds for $\\frac{\\delta c}{\\delta y}$.\n",
        "\n",
        "\n"
      ]
    },
    {
      "cell_type": "code",
      "metadata": {
        "id": "L7Fi3ZgmyRQg",
        "colab_type": "code",
        "colab": {}
      },
      "source": [
        "class MulOperation(Operation):\n",
        "  def __repr__(self):\n",
        "    return '{} * {}'.format(self.inputs[0], self.inputs[1])\n",
        "\n",
        "  def compute_value(self):\n",
        "    assert len(self.inputs) == 2\n",
        "    self.value = self.inputs[0].value * self.inputs[1].value\n",
        "\n",
        "  def compute_grad_value(self, arg_node):\n",
        "    self.compute_grad_params(arg_node)\n",
        "    self.grad_value[arg_node] = self.inputs[0].grad_value[arg_node] * self.inputs[1].value + \\\n",
        "                                self.inputs[1].grad_value[arg_node] * self.inputs[0].value\n",
        "\n",
        "@add_method(Node)\n",
        "def __mul__(self, other):\n",
        "  mul_op = MulOperation(inputs=[self, other])\n",
        "  return mul_op"
      ],
      "execution_count": 8,
      "outputs": []
    },
    {
      "cell_type": "markdown",
      "metadata": {
        "id": "yluRrhRWYAGW",
        "colab_type": "text"
      },
      "source": [
        "4. **Division**:\n",
        "*   `compute_grad_value`: \n",
        "Let $a = f(x, y)$ and $b = f(x, y)$. $c = f(a, b) = \\frac{a}{b}$.\n",
        "Then, $\\frac{\\delta c}{\\delta x} = \\frac{1}{b} * \\frac{\\delta a}{\\delta x} - \\frac{a}{b^2} * \\frac{\\delta b}{\\delta x}$. The same holds for $\\frac{\\delta c}{\\delta y}$."
      ]
    },
    {
      "cell_type": "code",
      "metadata": {
        "id": "TC3VtHxACVqW",
        "colab_type": "code",
        "colab": {}
      },
      "source": [
        "class DivOperation(Operation):\n",
        "  def __repr__(self):\n",
        "    return '{} / {}'.format(self.inputs[0], self.inputs[1])\n",
        "\n",
        "  def compute_value(self):\n",
        "    assert len(self.inputs) == 2\n",
        "    self.value = self.inputs[0].value / self.inputs[1].value\n",
        "\n",
        "  def compute_grad_value(self, arg_node):\n",
        "    self.compute_grad_params(arg_node)\n",
        "    self.grad_value[arg_node] = self.inputs[0].grad_value[arg_node] / self.inputs[1].value - \\\n",
        "                                self.inputs[0].value * self.inputs[1].grad_value[arg_node] / (self.inputs[1].value ** 2)\n",
        "\n",
        "@add_method(Node)\n",
        "def __truediv__(self, other):\n",
        "  div_op = DivOperation(inputs=[self, other])\n",
        "  return div_op"
      ],
      "execution_count": 9,
      "outputs": []
    },
    {
      "cell_type": "markdown",
      "metadata": {
        "id": "qHvZui0weYR4",
        "colab_type": "text"
      },
      "source": [
        "#### Unary operations"
      ]
    },
    {
      "cell_type": "code",
      "metadata": {
        "id": "AlAQRlpyez3s",
        "colab_type": "code",
        "colab": {}
      },
      "source": [
        "class PowOperation(Operation):\n",
        "  def __init__(self, inputs, const):\n",
        "    super().__init__(inputs)\n",
        "    self.const = const\n",
        "\n",
        "  def __repr__(self):\n",
        "    return '{}^{}'.format(self.inputs[0], self.const)\n",
        "\n",
        "  def compute_value(self):\n",
        "    assert len(self.inputs) == 1\n",
        "    self.value = self.inputs[0].value ** self.const\n",
        "\n",
        "  def compute_grad_value(self, arg_node):\n",
        "    self.compute_grad_params(arg_node)\n",
        "    self.grad_value[arg_node] = self.const * self.inputs[0].grad_value[arg_node] * (self.inputs[0].value ** (self.const - 1))\n",
        "\n",
        "\n",
        "@add_method(Node)\n",
        "def __pow__(self, power):\n",
        "  pow_op = PowOperation(inputs=[self], const=power)\n",
        "  return pow_op\n"
      ],
      "execution_count": 20,
      "outputs": []
    },
    {
      "cell_type": "markdown",
      "metadata": {
        "id": "_rU4BE2DaMre",
        "colab_type": "text"
      },
      "source": [
        "### Auto-diff"
      ]
    },
    {
      "cell_type": "markdown",
      "metadata": {
        "id": "LcOun7FMYhbo",
        "colab_type": "text"
      },
      "source": [
        "To sequentially compute value of a given equation, we sort nodes in computational graph by topologically ordering. To obtain gradient value, we need to firstly compute all values in the graph and sequentially compute gradient value of the target node with respect to argument nodes in reverse topological order."
      ]
    },
    {
      "cell_type": "code",
      "metadata": {
        "id": "nnjtPV9P_wOD",
        "colab_type": "code",
        "colab": {}
      },
      "source": [
        "def topo_sort(nodes):\n",
        "\n",
        "  def dfs(node, visited_nodes, topo_order):\n",
        "    if node in visited_nodes:\n",
        "      return\n",
        "    \n",
        "    visited_nodes.add(node)\n",
        "    for node_input in node.inputs:\n",
        "      if node_input not in visited_nodes:\n",
        "        dfs(node_input, visited_nodes, topo_order)\n",
        "\n",
        "    topo_order.append(node)\n",
        "\n",
        "  topo_order = []\n",
        "  visited_nodes = set()\n",
        "\n",
        "  for node in nodes:\n",
        "    dfs(node, visited_nodes, topo_order)\n",
        "  \n",
        "  return topo_order"
      ],
      "execution_count": 21,
      "outputs": []
    },
    {
      "cell_type": "code",
      "metadata": {
        "id": "852nZBaK08Fv",
        "colab_type": "code",
        "colab": {}
      },
      "source": [
        "def compute_values(target_nodes):\n",
        "  topo_order = topo_sort(target_nodes)\n",
        "  for node in topo_order:\n",
        "    node.compute_value()\n",
        "  return {node: node.value for node in target_nodes}"
      ],
      "execution_count": 22,
      "outputs": []
    },
    {
      "cell_type": "code",
      "metadata": {
        "id": "ENy0UbfC28DC",
        "colab_type": "code",
        "colab": {}
      },
      "source": [
        "def compute_grad_values(target_node, arg_nodes):\n",
        "  rev_topo_order = topo_sort([target_node])\n",
        "  rev_topo_order.reverse()\n",
        "  \n",
        "  for node in rev_topo_order:\n",
        "    target_node.compute_grad_value(node)\n",
        "  return {node: target_node.grad_value[node] for node in arg_nodes}"
      ],
      "execution_count": 13,
      "outputs": []
    },
    {
      "cell_type": "markdown",
      "metadata": {
        "id": "5C6ZjxyOKars",
        "colab_type": "text"
      },
      "source": [
        "### Test"
      ]
    },
    {
      "cell_type": "code",
      "metadata": {
        "id": "11GVuDmgffSA",
        "colab_type": "code",
        "colab": {
          "base_uri": "https://localhost:8080/",
          "height": 33
        },
        "outputId": "6e4e3029-991f-41f8-b1b4-47e2777d5beb"
      },
      "source": [
        "x = Variable(symbol = 'x')\n",
        "b = x ** 2\n",
        "x.set_value(4)\n",
        "compute_grad_values(b, [x])"
      ],
      "execution_count": 23,
      "outputs": [
        {
          "output_type": "execute_result",
          "data": {
            "text/plain": [
              "{x: 8}"
            ]
          },
          "metadata": {
            "tags": []
          },
          "execution_count": 23
        }
      ]
    },
    {
      "cell_type": "code",
      "metadata": {
        "id": "IXtnE19cjnia",
        "colab_type": "code",
        "colab": {}
      },
      "source": [
        ""
      ],
      "execution_count": null,
      "outputs": []
    },
    {
      "cell_type": "code",
      "metadata": {
        "id": "BKMFVx9CKcOQ",
        "colab_type": "code",
        "colab": {}
      },
      "source": [
        "x = Variable(symbol = 'x')\n",
        "y = Variable(symbol = 'y')\n",
        "a = x + y\n",
        "b = x\n",
        "c = a / b\n",
        "\n",
        "x.set_value(2)\n",
        "y.set_value(3)"
      ],
      "execution_count": 15,
      "outputs": []
    },
    {
      "cell_type": "code",
      "metadata": {
        "id": "la28qy3Yqwly",
        "colab_type": "code",
        "colab": {
          "base_uri": "https://localhost:8080/",
          "height": 33
        },
        "outputId": "264730c6-3aab-40ef-9e50-6ce91bb89d82"
      },
      "source": [
        "compute_values([c])\n",
        "compute_grad_values(c, [x, y])"
      ],
      "execution_count": 16,
      "outputs": [
        {
          "output_type": "execute_result",
          "data": {
            "text/plain": [
              "{x: -0.75, y: 0.5}"
            ]
          },
          "metadata": {
            "tags": []
          },
          "execution_count": 16
        }
      ]
    },
    {
      "cell_type": "code",
      "metadata": {
        "id": "rYl_liZVmFmZ",
        "colab_type": "code",
        "colab": {}
      },
      "source": [
        ""
      ],
      "execution_count": 16,
      "outputs": []
    },
    {
      "cell_type": "code",
      "metadata": {
        "id": "8VRxznJJpSpE",
        "colab_type": "code",
        "colab": {}
      },
      "source": [
        ""
      ],
      "execution_count": 16,
      "outputs": []
    },
    {
      "cell_type": "code",
      "metadata": {
        "id": "5VVnrUlIrLXO",
        "colab_type": "code",
        "colab": {}
      },
      "source": [
        ""
      ],
      "execution_count": 16,
      "outputs": []
    },
    {
      "cell_type": "code",
      "metadata": {
        "id": "_LjXD6hT0ZPD",
        "colab_type": "code",
        "colab": {}
      },
      "source": [
        ""
      ],
      "execution_count": 16,
      "outputs": []
    },
    {
      "cell_type": "code",
      "metadata": {
        "id": "zc0w_d7n2AQ7",
        "colab_type": "code",
        "colab": {}
      },
      "source": [
        ""
      ],
      "execution_count": 16,
      "outputs": []
    }
  ]
}